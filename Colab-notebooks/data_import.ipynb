{
  "nbformat": 4,
  "nbformat_minor": 0,
  "metadata": {
    "colab": {
      "provenance": [],
      "collapsed_sections": [],
      "authorship_tag": "ABX9TyN658e2RSnHynzDwG0kIp1o",
      "include_colab_link": true
    },
    "kernelspec": {
      "name": "python3",
      "display_name": "Python 3"
    },
    "language_info": {
      "name": "python"
    }
  },
  "cells": [
    {
      "cell_type": "markdown",
      "metadata": {
        "id": "view-in-github",
        "colab_type": "text"
      },
      "source": [
        "<a href=\"https://colab.research.google.com/github/pierredumontel/formula-one-spark-project/blob/master/Colab-notebooks/data_import.ipynb\" target=\"_parent\"><img src=\"https://colab.research.google.com/assets/colab-badge.svg\" alt=\"Open In Colab\"/></a>"
      ]
    },
    {
      "cell_type": "markdown",
      "source": [
        "# Install PySpark"
      ],
      "metadata": {
        "id": "qmlN_xWr8Yzl"
      }
    },
    {
      "cell_type": "code",
      "source": [
        "!pip install pyspark"
      ],
      "metadata": {
        "colab": {
          "base_uri": "https://localhost:8080/"
        },
        "id": "TQUiPFCpuskn",
        "outputId": "335a6dce-1ba5-4b9b-d2ce-340846955ac5"
      },
      "execution_count": 1,
      "outputs": [
        {
          "output_type": "stream",
          "name": "stdout",
          "text": [
            "Looking in indexes: https://pypi.org/simple, https://us-python.pkg.dev/colab-wheels/public/simple/\n",
            "Requirement already satisfied: pyspark in /usr/local/lib/python3.7/dist-packages (3.3.1)\n",
            "Requirement already satisfied: py4j==0.10.9.5 in /usr/local/lib/python3.7/dist-packages (from pyspark) (0.10.9.5)\n"
          ]
        }
      ]
    },
    {
      "cell_type": "code",
      "source": [
        "import pyspark\n",
        "\n",
        "sc = pyspark.SparkContext()\n",
        "sql_sc = pyspark.SQLContext(sc)"
      ],
      "metadata": {
        "colab": {
          "base_uri": "https://localhost:8080/"
        },
        "id": "_kJS1AfrutO0",
        "outputId": "f0323442-eeff-44ea-9c76-1cd4573d9732"
      },
      "execution_count": 2,
      "outputs": [
        {
          "output_type": "stream",
          "name": "stderr",
          "text": [
            "/usr/local/lib/python3.7/dist-packages/pyspark/sql/context.py:114: FutureWarning: Deprecated in 3.0.0. Use SparkSession.builder.getOrCreate() instead.\n",
            "  FutureWarning,\n"
          ]
        }
      ]
    },
    {
      "cell_type": "code",
      "source": [
        "from google.colab import drive\n",
        "drive.mount('/content/drive')"
      ],
      "metadata": {
        "colab": {
          "base_uri": "https://localhost:8080/"
        },
        "id": "7g2rygmLutMx",
        "outputId": "cfabd0f4-97b5-47d0-e6f1-46d87048f10b"
      },
      "execution_count": 3,
      "outputs": [
        {
          "output_type": "stream",
          "name": "stdout",
          "text": [
            "Drive already mounted at /content/drive; to attempt to forcibly remount, call drive.mount(\"/content/drive\", force_remount=True).\n"
          ]
        }
      ]
    },
    {
      "cell_type": "code",
      "source": [
        "spark = (pyspark.sql.SparkSession\n",
        "         .builder\n",
        "         .appName('FormulaOne')\n",
        "         .getOrCreate()\n",
        ")"
      ],
      "metadata": {
        "id": "5R3wx0FHuzYj"
      },
      "execution_count": 4,
      "outputs": []
    },
    {
      "cell_type": "markdown",
      "source": [
        "# Import datasets "
      ],
      "metadata": {
        "id": "bXpEB5qj8f6Z"
      }
    },
    {
      "cell_type": "code",
      "execution_count": 5,
      "metadata": {
        "colab": {
          "base_uri": "https://localhost:8080/"
        },
        "id": "eswvK8dEtzxC",
        "outputId": "13d15193-b510-42c7-d7dd-e92e0f22a822"
      },
      "outputs": [
        {
          "output_type": "stream",
          "name": "stdout",
          "text": [
            "  % Total    % Received % Xferd  Average Speed   Time    Time     Time  Current\n",
            "                                 Dload  Upload   Total   Spent    Left  Speed\n",
            "100 5836k  100 5836k    0     0  1442k      0  0:00:04  0:00:04 --:--:-- 1443k\n"
          ]
        }
      ],
      "source": [
        "!curl -O http://ergast.com/downloads/f1db_csv.zip"
      ]
    },
    {
      "cell_type": "code",
      "source": [
        "!unzip /content/f1db_csv.zip -d /content/f1_datasets"
      ],
      "metadata": {
        "colab": {
          "base_uri": "https://localhost:8080/"
        },
        "id": "0cvTMuRIt6Vh",
        "outputId": "c23b1c03-cab1-4db8-ce93-0a65e7c4a701"
      },
      "execution_count": 6,
      "outputs": [
        {
          "output_type": "stream",
          "name": "stdout",
          "text": [
            "Archive:  /content/f1db_csv.zip\n",
            "  inflating: /content/f1_datasets/circuits.csv  \n",
            "  inflating: /content/f1_datasets/constructor_results.csv  \n",
            "  inflating: /content/f1_datasets/constructors.csv  \n",
            "  inflating: /content/f1_datasets/constructor_standings.csv  \n",
            "  inflating: /content/f1_datasets/drivers.csv  \n",
            "  inflating: /content/f1_datasets/driver_standings.csv  \n",
            "  inflating: /content/f1_datasets/lap_times.csv  \n",
            "  inflating: /content/f1_datasets/pit_stops.csv  \n",
            "  inflating: /content/f1_datasets/qualifying.csv  \n",
            "  inflating: /content/f1_datasets/races.csv  \n",
            "  inflating: /content/f1_datasets/results.csv  \n",
            "  inflating: /content/f1_datasets/seasons.csv  \n",
            "  inflating: /content/f1_datasets/sprint_results.csv  \n",
            "  inflating: /content/f1_datasets/status.csv  \n"
          ]
        }
      ]
    },
    {
      "cell_type": "code",
      "source": [
        "!ls -lh /content/f1_datasets"
      ],
      "metadata": {
        "colab": {
          "base_uri": "https://localhost:8080/"
        },
        "id": "Hjp8wQGSuYWa",
        "outputId": "fa3daa74-cc44-4286-d544-f699d73a0132"
      },
      "execution_count": 10,
      "outputs": [
        {
          "output_type": "stream",
          "name": "stdout",
          "text": [
            "total 20M\n",
            "-rw-rw-r-- 1 root root 9.8K Oct 31 08:51 circuits.csv\n",
            "-rw-rw-r-- 1 root root 206K Oct 31 08:51 constructor_results.csv\n",
            "-rw-rw-r-- 1 root root  17K Oct 31 08:51 constructors.csv\n",
            "-rw-rw-r-- 1 root root 298K Oct 31 08:51 constructor_standings.csv\n",
            "-rw-rw-r-- 1 root root  92K Oct 31 08:51 drivers.csv\n",
            "-rw-rw-r-- 1 root root 837K Oct 31 08:51 driver_standings.csv\n",
            "-rw-rw-r-- 1 root root  16M Oct 31 08:51 lap_times.csv\n",
            "-rw-rw-r-- 1 root root 363K Oct 31 08:51 pit_stops.csv\n",
            "-rw-rw-r-- 1 root root 408K Oct 31 08:51 qualifying.csv\n",
            "-rw-rw-r-- 1 root root 151K Oct 31 08:51 races.csv\n",
            "-rw-rw-r-- 1 root root 1.6M Oct 31 08:51 results.csv\n",
            "-rw-rw-r-- 1 root root 4.4K Oct 31 08:51 seasons.csv\n",
            "-rw-r--r-- 1 root root 6.8K Oct 31 08:51 sprint_results.csv\n",
            "-rw-rw-r-- 1 root root 2.1K Oct 31 08:51 status.csv\n"
          ]
        }
      ]
    },
    {
      "cell_type": "code",
      "source": [
        "circuits_df = spark.read.csv('/content/f1_datasets/circuits.csv', sep=',', header = True)\n",
        "circuits_df.show()"
      ],
      "metadata": {
        "colab": {
          "base_uri": "https://localhost:8080/"
        },
        "id": "fJvBKHBTvH9w",
        "outputId": "e2b71183-7bcc-4d82-ba8e-50a00bb0662c"
      },
      "execution_count": 8,
      "outputs": [
        {
          "output_type": "stream",
          "name": "stdout",
          "text": [
            "+---------+--------------+--------------------+------------+---------+--------+---------+---+--------------------+\n",
            "|circuitId|    circuitRef|                name|    location|  country|     lat|      lng|alt|                 url|\n",
            "+---------+--------------+--------------------+------------+---------+--------+---------+---+--------------------+\n",
            "|        1|   albert_park|Albert Park Grand...|   Melbourne|Australia|-37.8497|  144.968| 10|http://en.wikiped...|\n",
            "|        2|        sepang|Sepang Internatio...|Kuala Lumpur| Malaysia| 2.76083|  101.738| 18|http://en.wikiped...|\n",
            "|        3|       bahrain|Bahrain Internati...|      Sakhir|  Bahrain| 26.0325|  50.5106|  7|http://en.wikiped...|\n",
            "|        4|     catalunya|Circuit de Barcel...|    Montmeló|    Spain|   41.57|  2.26111|109|http://en.wikiped...|\n",
            "|        5|      istanbul|       Istanbul Park|    Istanbul|   Turkey| 40.9517|   29.405|130|http://en.wikiped...|\n",
            "|        6|        monaco|   Circuit de Monaco| Monte-Carlo|   Monaco| 43.7347|  7.42056|  7|http://en.wikiped...|\n",
            "|        7|    villeneuve|Circuit Gilles Vi...|    Montreal|   Canada|    45.5| -73.5228| 13|http://en.wikiped...|\n",
            "|        8|   magny_cours|Circuit de Nevers...| Magny Cours|   France| 46.8642|  3.16361|228|http://en.wikiped...|\n",
            "|        9|   silverstone| Silverstone Circuit| Silverstone|       UK| 52.0786| -1.01694|153|http://en.wikiped...|\n",
            "|       10|hockenheimring|      Hockenheimring|  Hockenheim|  Germany| 49.3278|  8.56583|103|http://en.wikiped...|\n",
            "|       11|   hungaroring|         Hungaroring|    Budapest|  Hungary| 47.5789|  19.2486|264|http://en.wikiped...|\n",
            "|       12|      valencia|Valencia Street C...|    Valencia|    Spain| 39.4589|-0.331667|  4|http://en.wikiped...|\n",
            "|       13|           spa|Circuit de Spa-Fr...|         Spa|  Belgium| 50.4372|  5.97139|401|http://en.wikiped...|\n",
            "|       14|         monza|Autodromo Naziona...|       Monza|    Italy| 45.6156|  9.28111|162|http://en.wikiped...|\n",
            "|       15|    marina_bay|Marina Bay Street...|  Marina Bay|Singapore|  1.2914|  103.864| 18|http://en.wikiped...|\n",
            "|       16|          fuji|       Fuji Speedway|       Oyama|    Japan| 35.3717|  138.927|583|http://en.wikiped...|\n",
            "|       17|      shanghai|Shanghai Internat...|    Shanghai|    China| 31.3389|   121.22|  5|http://en.wikiped...|\n",
            "|       18|    interlagos|Autódromo José Ca...|   São Paulo|   Brazil|-23.7036| -46.6997|785|http://en.wikiped...|\n",
            "|       19|  indianapolis|Indianapolis Moto...|Indianapolis|      USA|  39.795| -86.2347|223|http://en.wikiped...|\n",
            "|       20|   nurburgring|         Nürburgring|     Nürburg|  Germany| 50.3356|   6.9475|578|http://en.wikiped...|\n",
            "+---------+--------------+--------------------+------------+---------+--------+---------+---+--------------------+\n",
            "only showing top 20 rows\n",
            "\n"
          ]
        }
      ]
    },
    {
      "cell_type": "code",
      "source": [
        "type(circuits_df)"
      ],
      "metadata": {
        "id": "tAZkcN3yvYxh",
        "colab": {
          "base_uri": "https://localhost:8080/"
        },
        "outputId": "ce64bcf7-8dd9-4dc1-ea3d-a212746afd2f"
      },
      "execution_count": 9,
      "outputs": [
        {
          "output_type": "execute_result",
          "data": {
            "text/plain": [
              "pyspark.sql.dataframe.DataFrame"
            ]
          },
          "metadata": {},
          "execution_count": 9
        }
      ]
    },
    {
      "cell_type": "code",
      "source": [],
      "metadata": {
        "id": "wp_aaEW18RpL"
      },
      "execution_count": 9,
      "outputs": []
    }
  ]
}