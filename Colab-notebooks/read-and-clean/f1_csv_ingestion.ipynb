{
  "nbformat": 4,
  "nbformat_minor": 0,
  "metadata": {
    "colab": {
      "provenance": [],
      "collapsed_sections": [],
      "authorship_tag": "ABX9TyNYCMowOVuRqBDcklSowEp3"
    },
    "kernelspec": {
      "name": "python3",
      "display_name": "Python 3"
    },
    "language_info": {
      "name": "python"
    }
  },
  "cells": [
    {
      "cell_type": "markdown",
      "source": [
        "# Install PySpark"
      ],
      "metadata": {
        "id": "qmlN_xWr8Yzl"
      }
    },
    {
      "cell_type": "code",
      "source": [
        "!pip install pyspark"
      ],
      "metadata": {
        "colab": {
          "base_uri": "https://localhost:8080/"
        },
        "id": "TQUiPFCpuskn",
        "outputId": "02ae3975-95cc-4278-c8c1-ac5cf1c05aee"
      },
      "execution_count": 1,
      "outputs": [
        {
          "output_type": "stream",
          "name": "stdout",
          "text": [
            "Looking in indexes: https://pypi.org/simple, https://us-python.pkg.dev/colab-wheels/public/simple/\n",
            "Collecting pyspark\n",
            "  Downloading pyspark-3.3.1.tar.gz (281.4 MB)\n",
            "\u001b[K     |████████████████████████████████| 281.4 MB 30 kB/s \n",
            "\u001b[?25hCollecting py4j==0.10.9.5\n",
            "  Downloading py4j-0.10.9.5-py2.py3-none-any.whl (199 kB)\n",
            "\u001b[K     |████████████████████████████████| 199 kB 34.9 MB/s \n",
            "\u001b[?25hBuilding wheels for collected packages: pyspark\n",
            "  Building wheel for pyspark (setup.py) ... \u001b[?25l\u001b[?25hdone\n",
            "  Created wheel for pyspark: filename=pyspark-3.3.1-py2.py3-none-any.whl size=281845513 sha256=322a5049afa90f09597241d5ec3f42579049443865a93027f9ba37a38b1bdf67\n",
            "  Stored in directory: /root/.cache/pip/wheels/42/59/f5/79a5bf931714dcd201b26025347785f087370a10a3329a899c\n",
            "Successfully built pyspark\n",
            "Installing collected packages: py4j, pyspark\n",
            "Successfully installed py4j-0.10.9.5 pyspark-3.3.1\n"
          ]
        }
      ]
    },
    {
      "cell_type": "code",
      "source": [
        "import pyspark\n",
        "\n",
        "sc = pyspark.SparkContext()\n",
        "sql_sc = pyspark.SQLContext(sc)"
      ],
      "metadata": {
        "colab": {
          "base_uri": "https://localhost:8080/"
        },
        "id": "_kJS1AfrutO0",
        "outputId": "ceb25168-a349-4f60-baf4-c2d55a9bfad8"
      },
      "execution_count": 2,
      "outputs": [
        {
          "output_type": "stream",
          "name": "stderr",
          "text": [
            "/usr/local/lib/python3.7/dist-packages/pyspark/sql/context.py:114: FutureWarning: Deprecated in 3.0.0. Use SparkSession.builder.getOrCreate() instead.\n",
            "  FutureWarning,\n"
          ]
        }
      ]
    },
    {
      "cell_type": "code",
      "source": [
        "from google.colab import drive\n",
        "drive.mount('/content/drive')"
      ],
      "metadata": {
        "colab": {
          "base_uri": "https://localhost:8080/"
        },
        "id": "7g2rygmLutMx",
        "outputId": "ae5d4563-e6c4-4b8a-ae74-69ea7fb1d6e5"
      },
      "execution_count": 3,
      "outputs": [
        {
          "output_type": "stream",
          "name": "stdout",
          "text": [
            "Mounted at /content/drive\n"
          ]
        }
      ]
    },
    {
      "cell_type": "code",
      "source": [
        "spark = (pyspark.sql.SparkSession\n",
        "         .builder\n",
        "         .appName('FormulaOne')\n",
        "         .getOrCreate()\n",
        ")"
      ],
      "metadata": {
        "id": "5R3wx0FHuzYj"
      },
      "execution_count": 4,
      "outputs": []
    },
    {
      "cell_type": "markdown",
      "source": [
        "# Import datasets "
      ],
      "metadata": {
        "id": "bXpEB5qj8f6Z"
      }
    },
    {
      "cell_type": "code",
      "execution_count": 5,
      "metadata": {
        "colab": {
          "base_uri": "https://localhost:8080/"
        },
        "id": "eswvK8dEtzxC",
        "outputId": "4bb638c4-7d82-4d07-9283-cf4f8fca485b"
      },
      "outputs": [
        {
          "output_type": "stream",
          "name": "stdout",
          "text": [
            "  % Total    % Received % Xferd  Average Speed   Time    Time     Time  Current\n",
            "                                 Dload  Upload   Total   Spent    Left  Speed\n",
            "100 5836k  100 5836k    0     0  3081k      0  0:00:01  0:00:01 --:--:-- 3080k\n"
          ]
        }
      ],
      "source": [
        "!curl -O http://ergast.com/downloads/f1db_csv.zip"
      ]
    },
    {
      "cell_type": "code",
      "source": [
        "!unzip /content/f1db_csv.zip -d /content/f1_datasets"
      ],
      "metadata": {
        "colab": {
          "base_uri": "https://localhost:8080/"
        },
        "id": "0cvTMuRIt6Vh",
        "outputId": "408e2100-c11c-4e68-ec3e-662849c8628f"
      },
      "execution_count": 6,
      "outputs": [
        {
          "output_type": "stream",
          "name": "stdout",
          "text": [
            "Archive:  /content/f1db_csv.zip\n",
            "  inflating: /content/f1_datasets/circuits.csv  \n",
            "  inflating: /content/f1_datasets/constructor_results.csv  \n",
            "  inflating: /content/f1_datasets/constructors.csv  \n",
            "  inflating: /content/f1_datasets/constructor_standings.csv  \n",
            "  inflating: /content/f1_datasets/drivers.csv  \n",
            "  inflating: /content/f1_datasets/driver_standings.csv  \n",
            "  inflating: /content/f1_datasets/lap_times.csv  \n",
            "  inflating: /content/f1_datasets/pit_stops.csv  \n",
            "  inflating: /content/f1_datasets/qualifying.csv  \n",
            "  inflating: /content/f1_datasets/races.csv  \n",
            "  inflating: /content/f1_datasets/results.csv  \n",
            "  inflating: /content/f1_datasets/seasons.csv  \n",
            "  inflating: /content/f1_datasets/sprint_results.csv  \n",
            "  inflating: /content/f1_datasets/status.csv  \n"
          ]
        }
      ]
    },
    {
      "cell_type": "code",
      "source": [
        "!ls -lh /content/f1_datasets"
      ],
      "metadata": {
        "colab": {
          "base_uri": "https://localhost:8080/"
        },
        "id": "Hjp8wQGSuYWa",
        "outputId": "9989a830-4e75-4d13-8177-d99eb00e592d"
      },
      "execution_count": 7,
      "outputs": [
        {
          "output_type": "stream",
          "name": "stdout",
          "text": [
            "total 20M\n",
            "-rw-rw-r-- 1 root root 9.8K Oct 31 08:51 circuits.csv\n",
            "-rw-rw-r-- 1 root root 206K Oct 31 08:51 constructor_results.csv\n",
            "-rw-rw-r-- 1 root root  17K Oct 31 08:51 constructors.csv\n",
            "-rw-rw-r-- 1 root root 298K Oct 31 08:51 constructor_standings.csv\n",
            "-rw-rw-r-- 1 root root  92K Oct 31 08:51 drivers.csv\n",
            "-rw-rw-r-- 1 root root 837K Oct 31 08:51 driver_standings.csv\n",
            "-rw-rw-r-- 1 root root  16M Oct 31 08:51 lap_times.csv\n",
            "-rw-rw-r-- 1 root root 363K Oct 31 08:51 pit_stops.csv\n",
            "-rw-rw-r-- 1 root root 408K Oct 31 08:51 qualifying.csv\n",
            "-rw-rw-r-- 1 root root 151K Oct 31 08:51 races.csv\n",
            "-rw-rw-r-- 1 root root 1.6M Oct 31 08:51 results.csv\n",
            "-rw-rw-r-- 1 root root 4.4K Oct 31 08:51 seasons.csv\n",
            "-rw-r--r-- 1 root root 6.8K Oct 31 08:51 sprint_results.csv\n",
            "-rw-rw-r-- 1 root root 2.1K Oct 31 08:51 status.csv\n"
          ]
        }
      ]
    },
    {
      "cell_type": "markdown",
      "source": [
        "# Import PySpark"
      ],
      "metadata": {
        "id": "cF720JsZkMAA"
      }
    },
    {
      "cell_type": "code",
      "source": [
        "from pyspark.sql.types import StructType, StructField, IntegerType, StringType, DoubleType, TimestampType, DateType\n",
        "from pyspark.sql.functions import current_timestamp, lit, col, to_timestamp, concat"
      ],
      "metadata": {
        "id": "XhdhN4fsfOOt"
      },
      "execution_count": 37,
      "outputs": []
    },
    {
      "cell_type": "markdown",
      "source": [
        "# Load .csv file, using InferSchema "
      ],
      "metadata": {
        "id": "LBHmwWw8kXKB"
      }
    },
    {
      "cell_type": "code",
      "source": [
        "circuits_schema = StructType(fields=[StructField(\"circuitId\", IntegerType(), False),\n",
        "                                     StructField(\"circuitRef\", StringType(), True),\n",
        "                                     StructField(\"name\", StringType(), True),\n",
        "                                     StructField(\"location\", StringType(), True),\n",
        "                                     StructField(\"country\", StringType(), True),\n",
        "                                     StructField(\"lat\", DoubleType(), True),\n",
        "                                     StructField(\"lng\", DoubleType(), True),\n",
        "                                     StructField(\"alt\", IntegerType(), True),\n",
        "                                     StructField(\"url\", StringType(), True)\n",
        "])\n",
        "\n",
        "circuits_df = (spark.read\n",
        "               .schema(circuits_schema)\n",
        "               .csv('/content/f1_datasets/circuits.csv', sep=',', header = True)\n",
        ")\n",
        "\n",
        "circuits_selected_df = circuits_df.select(col(\"circuitId\"),col(\"circuitRef\"),col(\"name\"),col(\"location\"),col(\"country\"),\\\n",
        "                                          col(\"lat\"),col(\"lng\"),col(\"alt\"))\n",
        "\n",
        "circuits_renamed_df = circuits_selected_df.withColumnRenamed(\"circuitId\",\"circuit_id\")\\\n",
        ".withColumnRenamed(\"circuitRef\",\"circuit_ref\")\\\n",
        ".withColumnRenamed(\"lat\",\"latitude\")\\\n",
        ".withColumnRenamed(\"lng\",\"longitude\")\\\n",
        ".withColumnRenamed(\"alt\",\"altitude\")\n",
        "\n",
        "circuits_final_df = circuits_renamed_df.withColumn(\"ingestion_date\",current_timestamp())\\\n",
        ".withColumn(\"env\",lit(\"Production\"))"
      ],
      "metadata": {
        "id": "rOvllxRFcsJN"
      },
      "execution_count": 9,
      "outputs": []
    },
    {
      "cell_type": "code",
      "source": [
        "circuits_df.printSchema()"
      ],
      "metadata": {
        "id": "wp_aaEW18RpL",
        "colab": {
          "base_uri": "https://localhost:8080/"
        },
        "outputId": "ea11aa96-1d7a-47eb-a0df-3d9a7d5096f6"
      },
      "execution_count": 12,
      "outputs": [
        {
          "output_type": "stream",
          "name": "stdout",
          "text": [
            "root\n",
            " |-- circuitId: integer (nullable = true)\n",
            " |-- circuitRef: string (nullable = true)\n",
            " |-- name: string (nullable = true)\n",
            " |-- location: string (nullable = true)\n",
            " |-- country: string (nullable = true)\n",
            " |-- lat: double (nullable = true)\n",
            " |-- lng: double (nullable = true)\n",
            " |-- alt: integer (nullable = true)\n",
            " |-- url: string (nullable = true)\n",
            "\n"
          ]
        }
      ]
    },
    {
      "cell_type": "markdown",
      "source": [
        "# Write data as parquet "
      ],
      "metadata": {
        "id": "1rM1yNytkgRn"
      }
    },
    {
      "cell_type": "code",
      "source": [
        "circuits_df.write.mode(\"overwrite\").parquet(\"/content/f1_datasets/circuits\")"
      ],
      "metadata": {
        "id": "WVkouDEmfTdQ"
      },
      "execution_count": 24,
      "outputs": []
    },
    {
      "cell_type": "code",
      "source": [
        "!ls -lh /content/f1_datasets/circuits"
      ],
      "metadata": {
        "colab": {
          "base_uri": "https://localhost:8080/"
        },
        "id": "Cigw5gGhkv33",
        "outputId": "6fbfaf17-a301-4925-a66c-60e48fd0aeea"
      },
      "execution_count": 22,
      "outputs": [
        {
          "output_type": "stream",
          "name": "stdout",
          "text": [
            "total 12K\n",
            "-rw-r--r-- 1 root root 8.9K Nov  8 09:29 part-00000-c393105c-d685-43f6-8e49-1036df38a041-c000.snappy.parquet\n",
            "-rw-r--r-- 1 root root    0 Nov  8 09:29 _SUCCESS\n"
          ]
        }
      ]
    },
    {
      "cell_type": "code",
      "source": [
        "df = spark.read.parquet(\"/content/f1_datasets/circuits\")\n",
        "df.show()"
      ],
      "metadata": {
        "colab": {
          "base_uri": "https://localhost:8080/"
        },
        "id": "o0vVpkN4kypo",
        "outputId": "431318ce-74ec-44e7-fc95-fa5120a0afdc"
      },
      "execution_count": 25,
      "outputs": [
        {
          "output_type": "stream",
          "name": "stdout",
          "text": [
            "+---------+--------------+--------------------+------------+---------+--------+---------+---+--------------------+\n",
            "|circuitId|    circuitRef|                name|    location|  country|     lat|      lng|alt|                 url|\n",
            "+---------+--------------+--------------------+------------+---------+--------+---------+---+--------------------+\n",
            "|        1|   albert_park|Albert Park Grand...|   Melbourne|Australia|-37.8497|  144.968| 10|http://en.wikiped...|\n",
            "|        2|        sepang|Sepang Internatio...|Kuala Lumpur| Malaysia| 2.76083|  101.738| 18|http://en.wikiped...|\n",
            "|        3|       bahrain|Bahrain Internati...|      Sakhir|  Bahrain| 26.0325|  50.5106|  7|http://en.wikiped...|\n",
            "|        4|     catalunya|Circuit de Barcel...|    Montmeló|    Spain|   41.57|  2.26111|109|http://en.wikiped...|\n",
            "|        5|      istanbul|       Istanbul Park|    Istanbul|   Turkey| 40.9517|   29.405|130|http://en.wikiped...|\n",
            "|        6|        monaco|   Circuit de Monaco| Monte-Carlo|   Monaco| 43.7347|  7.42056|  7|http://en.wikiped...|\n",
            "|        7|    villeneuve|Circuit Gilles Vi...|    Montreal|   Canada|    45.5| -73.5228| 13|http://en.wikiped...|\n",
            "|        8|   magny_cours|Circuit de Nevers...| Magny Cours|   France| 46.8642|  3.16361|228|http://en.wikiped...|\n",
            "|        9|   silverstone| Silverstone Circuit| Silverstone|       UK| 52.0786| -1.01694|153|http://en.wikiped...|\n",
            "|       10|hockenheimring|      Hockenheimring|  Hockenheim|  Germany| 49.3278|  8.56583|103|http://en.wikiped...|\n",
            "|       11|   hungaroring|         Hungaroring|    Budapest|  Hungary| 47.5789|  19.2486|264|http://en.wikiped...|\n",
            "|       12|      valencia|Valencia Street C...|    Valencia|    Spain| 39.4589|-0.331667|  4|http://en.wikiped...|\n",
            "|       13|           spa|Circuit de Spa-Fr...|         Spa|  Belgium| 50.4372|  5.97139|401|http://en.wikiped...|\n",
            "|       14|         monza|Autodromo Naziona...|       Monza|    Italy| 45.6156|  9.28111|162|http://en.wikiped...|\n",
            "|       15|    marina_bay|Marina Bay Street...|  Marina Bay|Singapore|  1.2914|  103.864| 18|http://en.wikiped...|\n",
            "|       16|          fuji|       Fuji Speedway|       Oyama|    Japan| 35.3717|  138.927|583|http://en.wikiped...|\n",
            "|       17|      shanghai|Shanghai Internat...|    Shanghai|    China| 31.3389|   121.22|  5|http://en.wikiped...|\n",
            "|       18|    interlagos|Autódromo José Ca...|   São Paulo|   Brazil|-23.7036| -46.6997|785|http://en.wikiped...|\n",
            "|       19|  indianapolis|Indianapolis Moto...|Indianapolis|      USA|  39.795| -86.2347|223|http://en.wikiped...|\n",
            "|       20|   nurburgring|         Nürburgring|     Nürburg|  Germany| 50.3356|   6.9475|578|http://en.wikiped...|\n",
            "+---------+--------------+--------------------+------------+---------+--------+---------+---+--------------------+\n",
            "only showing top 20 rows\n",
            "\n"
          ]
        }
      ]
    },
    {
      "cell_type": "markdown",
      "source": [
        "# Ingest race.csv"
      ],
      "metadata": {
        "id": "27CDMrhKmF_A"
      }
    },
    {
      "cell_type": "markdown",
      "source": [
        "## All step"
      ],
      "metadata": {
        "id": "pgxskbLf3wy1"
      }
    },
    {
      "cell_type": "code",
      "source": [
        "races_schema = StructType(fields=[StructField(\"raceId\", IntegerType(), False),\n",
        "                                     StructField(\"year\", IntegerType(), True),\n",
        "                                     StructField(\"round\", IntegerType(), True),\n",
        "                                     StructField(\"circuitId\", StringType(), True),\n",
        "                                     StructField(\"name\", StringType(), True),\n",
        "                                     StructField(\"date\", DateType(), True),\n",
        "                                     StructField(\"time\", StringType(), True),\n",
        "                                     StructField(\"url\", StringType(), True)\n",
        "])\n",
        "\n",
        "races_df = (spark.read\n",
        "               .schema(races_schema)\n",
        "               .csv('/content/f1_datasets/races.csv', sep=',', header = True)\n",
        ")\n",
        "\n",
        "races_with_df = (races_df\n",
        "                  .withColumn(\"race_timestamp\", to_timestamp(concat(col(\"date\"),lit(' '),col(\"time\")),'yyyy-MM-dd HH:mm:ss'))\n",
        "                  .withColumn(\"ingestion_date\",current_timestamp())\n",
        ")\n",
        "\n",
        "races_selected_df = (races_with_df.select(col(\"raceId\").alias(\"race_id\"),col(\"year\").alias(\"race_year\"),\n",
        "                                          col(\"round\"),col(\"circuitId\").alias(\"circuit_id\"),col(\"name\"),col(\"ingestion_date\"),col(\"race_timestamp\"))\n",
        ")\n",
        "\n",
        "races_selected_df.write.mode(\"overwrite\").parquet(\"/content/f1_datasets/races\")\n",
        "races_parquet = spark.read.parquet(\"/content/f1_datasets/races\")\n",
        "races_parquet.show()"
      ],
      "metadata": {
        "colab": {
          "base_uri": "https://localhost:8080/"
        },
        "id": "74nayWf1lYne",
        "outputId": "4931c918-6ae5-489e-bd90-3a69eab3b9fd"
      },
      "execution_count": 39,
      "outputs": [
        {
          "output_type": "stream",
          "name": "stdout",
          "text": [
            "+-------+---------+-----+----------+--------------------+--------------------+-------------------+\n",
            "|race_id|race_year|round|circuit_id|                name|      ingestion_date|     race_timestamp|\n",
            "+-------+---------+-----+----------+--------------------+--------------------+-------------------+\n",
            "|      1|     2009|    1|         1|Australian Grand ...|2022-11-08 10:13:...|2009-03-29 06:00:00|\n",
            "|      2|     2009|    2|         2|Malaysian Grand Prix|2022-11-08 10:13:...|2009-04-05 09:00:00|\n",
            "|      3|     2009|    3|        17|  Chinese Grand Prix|2022-11-08 10:13:...|2009-04-19 07:00:00|\n",
            "|      4|     2009|    4|         3|  Bahrain Grand Prix|2022-11-08 10:13:...|2009-04-26 12:00:00|\n",
            "|      5|     2009|    5|         4|  Spanish Grand Prix|2022-11-08 10:13:...|2009-05-10 12:00:00|\n",
            "|      6|     2009|    6|         6|   Monaco Grand Prix|2022-11-08 10:13:...|2009-05-24 12:00:00|\n",
            "|      7|     2009|    7|         5|  Turkish Grand Prix|2022-11-08 10:13:...|2009-06-07 12:00:00|\n",
            "|      8|     2009|    8|         9|  British Grand Prix|2022-11-08 10:13:...|2009-06-21 12:00:00|\n",
            "|      9|     2009|    9|        20|   German Grand Prix|2022-11-08 10:13:...|2009-07-12 12:00:00|\n",
            "|     10|     2009|   10|        11|Hungarian Grand Prix|2022-11-08 10:13:...|2009-07-26 12:00:00|\n",
            "|     11|     2009|   11|        12| European Grand Prix|2022-11-08 10:13:...|2009-08-23 12:00:00|\n",
            "|     12|     2009|   12|        13|  Belgian Grand Prix|2022-11-08 10:13:...|2009-08-30 12:00:00|\n",
            "|     13|     2009|   13|        14|  Italian Grand Prix|2022-11-08 10:13:...|2009-09-13 12:00:00|\n",
            "|     14|     2009|   14|        15|Singapore Grand Prix|2022-11-08 10:13:...|2009-09-27 12:00:00|\n",
            "|     15|     2009|   15|        22| Japanese Grand Prix|2022-11-08 10:13:...|2009-10-04 05:00:00|\n",
            "|     16|     2009|   16|        18|Brazilian Grand Prix|2022-11-08 10:13:...|2009-10-18 16:00:00|\n",
            "|     17|     2009|   17|        24|Abu Dhabi Grand Prix|2022-11-08 10:13:...|2009-11-01 11:00:00|\n",
            "|     18|     2008|    1|         1|Australian Grand ...|2022-11-08 10:13:...|2008-03-16 04:30:00|\n",
            "|     19|     2008|    2|         2|Malaysian Grand Prix|2022-11-08 10:13:...|2008-03-23 07:00:00|\n",
            "|     20|     2008|    3|         3|  Bahrain Grand Prix|2022-11-08 10:13:...|2008-04-06 11:30:00|\n",
            "+-------+---------+-----+----------+--------------------+--------------------+-------------------+\n",
            "only showing top 20 rows\n",
            "\n"
          ]
        }
      ]
    },
    {
      "cell_type": "markdown",
      "source": [
        "## Add partition by "
      ],
      "metadata": {
        "id": "3pvosU1-31u-"
      }
    },
    {
      "cell_type": "code",
      "source": [
        "races_selected_df.write.mode(\"overwrite\").partitionBy('race_year').parquet(\"/content/f1_datasets/processed/races\")\n",
        "races_parquet = spark.read.parquet(\"/content/f1_datasets/processed/races\")\n",
        "races_parquet.show()"
      ],
      "metadata": {
        "colab": {
          "base_uri": "https://localhost:8080/"
        },
        "id": "FFlNOSHpqoRM",
        "outputId": "d2033f2a-0416-42ff-8b25-11ff7c7d5927"
      },
      "execution_count": 41,
      "outputs": [
        {
          "output_type": "stream",
          "name": "stdout",
          "text": [
            "+-------+-----+----------+--------------------+--------------------+-------------------+---------+\n",
            "|race_id|round|circuit_id|                name|      ingestion_date|     race_timestamp|race_year|\n",
            "+-------+-----+----------+--------------------+--------------------+-------------------+---------+\n",
            "|   1074|    1|         3|  Bahrain Grand Prix|2022-11-08 10:54:...|2022-03-20 15:00:00|     2022|\n",
            "|   1075|    2|        77|Saudi Arabian Gra...|2022-11-08 10:54:...|2022-03-27 17:00:00|     2022|\n",
            "|   1076|    3|         1|Australian Grand ...|2022-11-08 10:54:...|2022-04-10 05:00:00|     2022|\n",
            "|   1077|    4|        21|Emilia Romagna Gr...|2022-11-08 10:54:...|2022-04-24 13:00:00|     2022|\n",
            "|   1078|    5|        79|    Miami Grand Prix|2022-11-08 10:54:...|2022-05-08 19:30:00|     2022|\n",
            "|   1079|    6|         4|  Spanish Grand Prix|2022-11-08 10:54:...|2022-05-22 13:00:00|     2022|\n",
            "|   1080|    7|         6|   Monaco Grand Prix|2022-11-08 10:54:...|2022-05-29 13:00:00|     2022|\n",
            "|   1081|    8|        73|Azerbaijan Grand ...|2022-11-08 10:54:...|2022-06-12 11:00:00|     2022|\n",
            "|   1082|    9|         7| Canadian Grand Prix|2022-11-08 10:54:...|2022-06-19 18:00:00|     2022|\n",
            "|   1083|   10|         9|  British Grand Prix|2022-11-08 10:54:...|2022-07-03 14:00:00|     2022|\n",
            "|   1084|   11|        70| Austrian Grand Prix|2022-11-08 10:54:...|2022-07-10 13:00:00|     2022|\n",
            "|   1085|   12|        34|   French Grand Prix|2022-11-08 10:54:...|2022-07-24 13:00:00|     2022|\n",
            "|   1086|   13|        11|Hungarian Grand Prix|2022-11-08 10:54:...|2022-07-31 13:00:00|     2022|\n",
            "|   1087|   14|        13|  Belgian Grand Prix|2022-11-08 10:54:...|2022-08-28 13:00:00|     2022|\n",
            "|   1088|   15|        39|    Dutch Grand Prix|2022-11-08 10:54:...|2022-09-04 13:00:00|     2022|\n",
            "|   1089|   16|        14|  Italian Grand Prix|2022-11-08 10:54:...|2022-09-11 13:00:00|     2022|\n",
            "|   1091|   17|        15|Singapore Grand Prix|2022-11-08 10:54:...|2022-10-02 12:00:00|     2022|\n",
            "|   1092|   18|        22| Japanese Grand Prix|2022-11-08 10:54:...|2022-10-09 05:00:00|     2022|\n",
            "|   1093|   19|        69|United States Gra...|2022-11-08 10:54:...|2022-10-23 19:00:00|     2022|\n",
            "|   1094|   20|        32|Mexico City Grand...|2022-11-08 10:54:...|2022-10-30 20:00:00|     2022|\n",
            "+-------+-----+----------+--------------------+--------------------+-------------------+---------+\n",
            "only showing top 20 rows\n",
            "\n"
          ]
        }
      ]
    },
    {
      "cell_type": "code",
      "source": [],
      "metadata": {
        "id": "3tt8diWd4K1i"
      },
      "execution_count": null,
      "outputs": []
    }
  ]
}