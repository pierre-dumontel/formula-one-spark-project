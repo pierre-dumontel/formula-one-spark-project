{
  "nbformat": 4,
  "nbformat_minor": 0,
  "metadata": {
    "colab": {
      "provenance": [],
      "collapsed_sections": [],
      "authorship_tag": "ABX9TyM/+LFROGR9tUWxnGLQeivK"
    },
    "kernelspec": {
      "name": "python3",
      "display_name": "Python 3"
    },
    "language_info": {
      "name": "python"
    }
  },
  "cells": [
    {
      "cell_type": "markdown",
      "source": [
        "# Install PySpark"
      ],
      "metadata": {
        "id": "qmlN_xWr8Yzl"
      }
    },
    {
      "cell_type": "code",
      "source": [
        "!pip install pyspark"
      ],
      "metadata": {
        "colab": {
          "base_uri": "https://localhost:8080/"
        },
        "id": "TQUiPFCpuskn",
        "outputId": "17253197-0608-4e35-ea68-34434fecede6"
      },
      "execution_count": 1,
      "outputs": [
        {
          "output_type": "stream",
          "name": "stdout",
          "text": [
            "Looking in indexes: https://pypi.org/simple, https://us-python.pkg.dev/colab-wheels/public/simple/\n",
            "Collecting pyspark\n",
            "  Downloading pyspark-3.3.1.tar.gz (281.4 MB)\n",
            "\u001b[K     |████████████████████████████████| 281.4 MB 54 kB/s \n",
            "\u001b[?25hCollecting py4j==0.10.9.5\n",
            "  Downloading py4j-0.10.9.5-py2.py3-none-any.whl (199 kB)\n",
            "\u001b[K     |████████████████████████████████| 199 kB 74.5 MB/s \n",
            "\u001b[?25hBuilding wheels for collected packages: pyspark\n",
            "  Building wheel for pyspark (setup.py) ... \u001b[?25l\u001b[?25hdone\n",
            "  Created wheel for pyspark: filename=pyspark-3.3.1-py2.py3-none-any.whl size=281845513 sha256=da10c55bbcfa00f9a5ae939eeeb196f08a999e3806a8f1dbb346a82af5b0a0a6\n",
            "  Stored in directory: /root/.cache/pip/wheels/42/59/f5/79a5bf931714dcd201b26025347785f087370a10a3329a899c\n",
            "Successfully built pyspark\n",
            "Installing collected packages: py4j, pyspark\n",
            "Successfully installed py4j-0.10.9.5 pyspark-3.3.1\n"
          ]
        }
      ]
    },
    {
      "cell_type": "code",
      "source": [
        "import pyspark\n",
        "\n",
        "sc = pyspark.SparkContext()\n",
        "sql_sc = pyspark.SQLContext(sc)"
      ],
      "metadata": {
        "colab": {
          "base_uri": "https://localhost:8080/"
        },
        "id": "_kJS1AfrutO0",
        "outputId": "930f0b44-1dc6-4512-ec82-c1719ea3ad42"
      },
      "execution_count": 2,
      "outputs": [
        {
          "output_type": "stream",
          "name": "stderr",
          "text": [
            "/usr/local/lib/python3.7/dist-packages/pyspark/sql/context.py:114: FutureWarning: Deprecated in 3.0.0. Use SparkSession.builder.getOrCreate() instead.\n",
            "  FutureWarning,\n"
          ]
        }
      ]
    },
    {
      "cell_type": "code",
      "source": [
        "from google.colab import drive\n",
        "drive.mount('/content/drive')"
      ],
      "metadata": {
        "colab": {
          "base_uri": "https://localhost:8080/"
        },
        "id": "7g2rygmLutMx",
        "outputId": "8c3d5808-2148-4126-da61-68d09168c382"
      },
      "execution_count": 4,
      "outputs": [
        {
          "output_type": "stream",
          "name": "stdout",
          "text": [
            "Mounted at /content/drive\n"
          ]
        }
      ]
    },
    {
      "cell_type": "code",
      "source": [
        "from pyspark.sql.types import StructType, StructField, IntegerType, StringType, DoubleType, TimestampType, DateType\n",
        "from pyspark.sql.functions import current_timestamp, lit, col, to_timestamp, concat"
      ],
      "metadata": {
        "id": "XhdhN4fsfOOt"
      },
      "execution_count": 9,
      "outputs": []
    },
    {
      "cell_type": "code",
      "source": [
        "spark = (pyspark.sql.SparkSession\n",
        "         .builder\n",
        "         .appName('FormulaOne')\n",
        "         .getOrCreate()\n",
        ")"
      ],
      "metadata": {
        "id": "5R3wx0FHuzYj"
      },
      "execution_count": 5,
      "outputs": []
    },
    {
      "cell_type": "markdown",
      "source": [
        "# Import datasets "
      ],
      "metadata": {
        "id": "bXpEB5qj8f6Z"
      }
    },
    {
      "cell_type": "code",
      "execution_count": 6,
      "metadata": {
        "colab": {
          "base_uri": "https://localhost:8080/"
        },
        "id": "eswvK8dEtzxC",
        "outputId": "591cef55-49c8-4b5a-805c-9c23a50d790b"
      },
      "outputs": [
        {
          "output_type": "stream",
          "name": "stdout",
          "text": [
            "  % Total    % Received % Xferd  Average Speed   Time    Time     Time  Current\n",
            "                                 Dload  Upload   Total   Spent    Left  Speed\n",
            "100 5836k  100 5836k    0     0  3063k      0  0:00:01  0:00:01 --:--:-- 3062k\n"
          ]
        }
      ],
      "source": [
        "!curl -O http://ergast.com/downloads/f1db_csv.zip"
      ]
    },
    {
      "cell_type": "code",
      "source": [
        "!unzip /content/f1db_csv.zip -d /content/f1_datasets"
      ],
      "metadata": {
        "colab": {
          "base_uri": "https://localhost:8080/"
        },
        "id": "0cvTMuRIt6Vh",
        "outputId": "98ddc051-6fd7-4139-ff41-354950d09edf"
      },
      "execution_count": 7,
      "outputs": [
        {
          "output_type": "stream",
          "name": "stdout",
          "text": [
            "Archive:  /content/f1db_csv.zip\n",
            "  inflating: /content/f1_datasets/circuits.csv  \n",
            "  inflating: /content/f1_datasets/constructor_results.csv  \n",
            "  inflating: /content/f1_datasets/constructors.csv  \n",
            "  inflating: /content/f1_datasets/constructor_standings.csv  \n",
            "  inflating: /content/f1_datasets/drivers.csv  \n",
            "  inflating: /content/f1_datasets/driver_standings.csv  \n",
            "  inflating: /content/f1_datasets/lap_times.csv  \n",
            "  inflating: /content/f1_datasets/pit_stops.csv  \n",
            "  inflating: /content/f1_datasets/qualifying.csv  \n",
            "  inflating: /content/f1_datasets/races.csv  \n",
            "  inflating: /content/f1_datasets/results.csv  \n",
            "  inflating: /content/f1_datasets/seasons.csv  \n",
            "  inflating: /content/f1_datasets/sprint_results.csv  \n",
            "  inflating: /content/f1_datasets/status.csv  \n"
          ]
        }
      ]
    },
    {
      "cell_type": "code",
      "source": [
        "!ls -lh /content/f1_datasets"
      ],
      "metadata": {
        "colab": {
          "base_uri": "https://localhost:8080/"
        },
        "id": "Hjp8wQGSuYWa",
        "outputId": "41307bbb-ddf4-4ce2-cdb2-ec190ff0fd28"
      },
      "execution_count": 8,
      "outputs": [
        {
          "output_type": "stream",
          "name": "stdout",
          "text": [
            "total 20M\n",
            "-rw-rw-r-- 1 root root 9.8K Oct 31 08:51 circuits.csv\n",
            "-rw-rw-r-- 1 root root 206K Oct 31 08:51 constructor_results.csv\n",
            "-rw-rw-r-- 1 root root  17K Oct 31 08:51 constructors.csv\n",
            "-rw-rw-r-- 1 root root 298K Oct 31 08:51 constructor_standings.csv\n",
            "-rw-rw-r-- 1 root root  92K Oct 31 08:51 drivers.csv\n",
            "-rw-rw-r-- 1 root root 837K Oct 31 08:51 driver_standings.csv\n",
            "-rw-rw-r-- 1 root root  16M Oct 31 08:51 lap_times.csv\n",
            "-rw-rw-r-- 1 root root 363K Oct 31 08:51 pit_stops.csv\n",
            "-rw-rw-r-- 1 root root 408K Oct 31 08:51 qualifying.csv\n",
            "-rw-rw-r-- 1 root root 151K Oct 31 08:51 races.csv\n",
            "-rw-rw-r-- 1 root root 1.6M Oct 31 08:51 results.csv\n",
            "-rw-rw-r-- 1 root root 4.4K Oct 31 08:51 seasons.csv\n",
            "-rw-r--r-- 1 root root 6.8K Oct 31 08:51 sprint_results.csv\n",
            "-rw-rw-r-- 1 root root 2.1K Oct 31 08:51 status.csv\n"
          ]
        }
      ]
    },
    {
      "cell_type": "markdown",
      "source": [
        "# Load circuits file, using InferSchema "
      ],
      "metadata": {
        "id": "LBHmwWw8kXKB"
      }
    },
    {
      "cell_type": "code",
      "source": [
        "circuits_schema = StructType(fields=[StructField(\"circuitId\", IntegerType(), False),\n",
        "                                     StructField(\"circuitRef\", StringType(), True),\n",
        "                                     StructField(\"name\", StringType(), True),\n",
        "                                     StructField(\"location\", StringType(), True),\n",
        "                                     StructField(\"country\", StringType(), True),\n",
        "                                     StructField(\"lat\", DoubleType(), True),\n",
        "                                     StructField(\"lng\", DoubleType(), True),\n",
        "                                     StructField(\"alt\", IntegerType(), True),\n",
        "                                     StructField(\"url\", StringType(), True)\n",
        "])\n",
        "\n",
        "circuits_df = (spark.read\n",
        "               .schema(circuits_schema)\n",
        "               .csv('/content/f1_datasets/circuits.csv', sep=',', header = True)\n",
        ")\n",
        "\n",
        "circuits_selected_df = circuits_df.select(col(\"circuitId\"),col(\"circuitRef\"),col(\"name\"),col(\"location\"),col(\"country\"),\\\n",
        "                                          col(\"lat\"),col(\"lng\"),col(\"alt\"))\n",
        "\n",
        "circuits_renamed_df = circuits_selected_df.withColumnRenamed(\"circuitId\",\"circuit_id\")\\\n",
        ".withColumnRenamed(\"circuitRef\",\"circuit_ref\")\\\n",
        ".withColumnRenamed(\"lat\",\"latitude\")\\\n",
        ".withColumnRenamed(\"lng\",\"longitude\")\\\n",
        ".withColumnRenamed(\"alt\",\"altitude\")\n",
        "\n",
        "circuits_final_df = circuits_renamed_df.withColumn(\"ingestion_date\",current_timestamp())\\\n",
        ".withColumn(\"env\",lit(\"Production\"))"
      ],
      "metadata": {
        "id": "rOvllxRFcsJN"
      },
      "execution_count": 10,
      "outputs": []
    },
    {
      "cell_type": "markdown",
      "source": [
        "## Write data as parquet "
      ],
      "metadata": {
        "id": "1rM1yNytkgRn"
      }
    },
    {
      "cell_type": "code",
      "source": [
        "circuits_df.write.mode(\"overwrite\").parquet(\"/content/f1_datasets/circuits\")"
      ],
      "metadata": {
        "id": "WVkouDEmfTdQ"
      },
      "execution_count": 11,
      "outputs": []
    },
    {
      "cell_type": "code",
      "source": [
        "!ls -lh /content/f1_datasets/circuits"
      ],
      "metadata": {
        "colab": {
          "base_uri": "https://localhost:8080/"
        },
        "id": "Cigw5gGhkv33",
        "outputId": "6c27d070-38a9-434f-d314-972fbb6ff3e0"
      },
      "execution_count": 12,
      "outputs": [
        {
          "output_type": "stream",
          "name": "stdout",
          "text": [
            "total 12K\n",
            "-rw-r--r-- 1 root root 8.9K Nov  8 14:01 part-00000-4a23c873-3aa7-4f86-a547-1899e779c1b2-c000.snappy.parquet\n",
            "-rw-r--r-- 1 root root    0 Nov  8 14:01 _SUCCESS\n"
          ]
        }
      ]
    },
    {
      "cell_type": "code",
      "source": [
        "df = spark.read.parquet(\"/content/f1_datasets/circuits\")\n",
        "df.show()"
      ],
      "metadata": {
        "colab": {
          "base_uri": "https://localhost:8080/"
        },
        "id": "o0vVpkN4kypo",
        "outputId": "61c722d7-2715-4a43-e226-191ea16c988d"
      },
      "execution_count": 13,
      "outputs": [
        {
          "output_type": "stream",
          "name": "stdout",
          "text": [
            "+---------+--------------+--------------------+------------+---------+--------+---------+---+--------------------+\n",
            "|circuitId|    circuitRef|                name|    location|  country|     lat|      lng|alt|                 url|\n",
            "+---------+--------------+--------------------+------------+---------+--------+---------+---+--------------------+\n",
            "|        1|   albert_park|Albert Park Grand...|   Melbourne|Australia|-37.8497|  144.968| 10|http://en.wikiped...|\n",
            "|        2|        sepang|Sepang Internatio...|Kuala Lumpur| Malaysia| 2.76083|  101.738| 18|http://en.wikiped...|\n",
            "|        3|       bahrain|Bahrain Internati...|      Sakhir|  Bahrain| 26.0325|  50.5106|  7|http://en.wikiped...|\n",
            "|        4|     catalunya|Circuit de Barcel...|    Montmeló|    Spain|   41.57|  2.26111|109|http://en.wikiped...|\n",
            "|        5|      istanbul|       Istanbul Park|    Istanbul|   Turkey| 40.9517|   29.405|130|http://en.wikiped...|\n",
            "|        6|        monaco|   Circuit de Monaco| Monte-Carlo|   Monaco| 43.7347|  7.42056|  7|http://en.wikiped...|\n",
            "|        7|    villeneuve|Circuit Gilles Vi...|    Montreal|   Canada|    45.5| -73.5228| 13|http://en.wikiped...|\n",
            "|        8|   magny_cours|Circuit de Nevers...| Magny Cours|   France| 46.8642|  3.16361|228|http://en.wikiped...|\n",
            "|        9|   silverstone| Silverstone Circuit| Silverstone|       UK| 52.0786| -1.01694|153|http://en.wikiped...|\n",
            "|       10|hockenheimring|      Hockenheimring|  Hockenheim|  Germany| 49.3278|  8.56583|103|http://en.wikiped...|\n",
            "|       11|   hungaroring|         Hungaroring|    Budapest|  Hungary| 47.5789|  19.2486|264|http://en.wikiped...|\n",
            "|       12|      valencia|Valencia Street C...|    Valencia|    Spain| 39.4589|-0.331667|  4|http://en.wikiped...|\n",
            "|       13|           spa|Circuit de Spa-Fr...|         Spa|  Belgium| 50.4372|  5.97139|401|http://en.wikiped...|\n",
            "|       14|         monza|Autodromo Naziona...|       Monza|    Italy| 45.6156|  9.28111|162|http://en.wikiped...|\n",
            "|       15|    marina_bay|Marina Bay Street...|  Marina Bay|Singapore|  1.2914|  103.864| 18|http://en.wikiped...|\n",
            "|       16|          fuji|       Fuji Speedway|       Oyama|    Japan| 35.3717|  138.927|583|http://en.wikiped...|\n",
            "|       17|      shanghai|Shanghai Internat...|    Shanghai|    China| 31.3389|   121.22|  5|http://en.wikiped...|\n",
            "|       18|    interlagos|Autódromo José Ca...|   São Paulo|   Brazil|-23.7036| -46.6997|785|http://en.wikiped...|\n",
            "|       19|  indianapolis|Indianapolis Moto...|Indianapolis|      USA|  39.795| -86.2347|223|http://en.wikiped...|\n",
            "|       20|   nurburgring|         Nürburgring|     Nürburg|  Germany| 50.3356|   6.9475|578|http://en.wikiped...|\n",
            "+---------+--------------+--------------------+------------+---------+--------+---------+---+--------------------+\n",
            "only showing top 20 rows\n",
            "\n"
          ]
        }
      ]
    },
    {
      "cell_type": "markdown",
      "source": [
        "# Ingest races.csv"
      ],
      "metadata": {
        "id": "27CDMrhKmF_A"
      }
    },
    {
      "cell_type": "code",
      "source": [
        "races_schema = StructType(fields=[StructField(\"raceId\", IntegerType(), False),\n",
        "                                     StructField(\"year\", IntegerType(), True),\n",
        "                                     StructField(\"round\", IntegerType(), True),\n",
        "                                     StructField(\"circuitId\", StringType(), True),\n",
        "                                     StructField(\"name\", StringType(), True),\n",
        "                                     StructField(\"date\", DateType(), True),\n",
        "                                     StructField(\"time\", StringType(), True),\n",
        "                                     StructField(\"url\", StringType(), True)\n",
        "])\n",
        "\n",
        "races_df = (spark.read\n",
        "               .schema(races_schema)\n",
        "               .csv('/content/f1_datasets/races.csv', sep=',', header = True)\n",
        ")\n",
        "\n",
        "races_with_df = (races_df\n",
        "                  .withColumn(\"race_timestamp\", to_timestamp(concat(col(\"date\"),lit(' '),col(\"time\")),'yyyy-MM-dd HH:mm:ss'))\n",
        "                  .withColumn(\"ingestion_date\",current_timestamp())\n",
        ")\n",
        "\n",
        "races_selected_df = (races_with_df.select(col(\"raceId\").alias(\"race_id\"),col(\"year\").alias(\"race_year\"),\n",
        "                                          col(\"round\"),col(\"circuitId\").alias(\"circuit_id\"),col(\"name\"),col(\"ingestion_date\"),col(\"race_timestamp\"))\n",
        ")\n",
        "\n",
        "races_selected_df.write.mode(\"overwrite\").parquet(\"/content/f1_datasets/races\")\n",
        "races_parquet = spark.read.parquet(\"/content/f1_datasets/races\")\n",
        "races_parquet.show()"
      ],
      "metadata": {
        "colab": {
          "base_uri": "https://localhost:8080/"
        },
        "id": "74nayWf1lYne",
        "outputId": "8c570b3b-8fff-42f1-be4d-95e01e452beb"
      },
      "execution_count": 14,
      "outputs": [
        {
          "output_type": "stream",
          "name": "stdout",
          "text": [
            "+-------+---------+-----+----------+--------------------+--------------------+-------------------+\n",
            "|race_id|race_year|round|circuit_id|                name|      ingestion_date|     race_timestamp|\n",
            "+-------+---------+-----+----------+--------------------+--------------------+-------------------+\n",
            "|      1|     2009|    1|         1|Australian Grand ...|2022-11-08 14:01:...|2009-03-29 06:00:00|\n",
            "|      2|     2009|    2|         2|Malaysian Grand Prix|2022-11-08 14:01:...|2009-04-05 09:00:00|\n",
            "|      3|     2009|    3|        17|  Chinese Grand Prix|2022-11-08 14:01:...|2009-04-19 07:00:00|\n",
            "|      4|     2009|    4|         3|  Bahrain Grand Prix|2022-11-08 14:01:...|2009-04-26 12:00:00|\n",
            "|      5|     2009|    5|         4|  Spanish Grand Prix|2022-11-08 14:01:...|2009-05-10 12:00:00|\n",
            "|      6|     2009|    6|         6|   Monaco Grand Prix|2022-11-08 14:01:...|2009-05-24 12:00:00|\n",
            "|      7|     2009|    7|         5|  Turkish Grand Prix|2022-11-08 14:01:...|2009-06-07 12:00:00|\n",
            "|      8|     2009|    8|         9|  British Grand Prix|2022-11-08 14:01:...|2009-06-21 12:00:00|\n",
            "|      9|     2009|    9|        20|   German Grand Prix|2022-11-08 14:01:...|2009-07-12 12:00:00|\n",
            "|     10|     2009|   10|        11|Hungarian Grand Prix|2022-11-08 14:01:...|2009-07-26 12:00:00|\n",
            "|     11|     2009|   11|        12| European Grand Prix|2022-11-08 14:01:...|2009-08-23 12:00:00|\n",
            "|     12|     2009|   12|        13|  Belgian Grand Prix|2022-11-08 14:01:...|2009-08-30 12:00:00|\n",
            "|     13|     2009|   13|        14|  Italian Grand Prix|2022-11-08 14:01:...|2009-09-13 12:00:00|\n",
            "|     14|     2009|   14|        15|Singapore Grand Prix|2022-11-08 14:01:...|2009-09-27 12:00:00|\n",
            "|     15|     2009|   15|        22| Japanese Grand Prix|2022-11-08 14:01:...|2009-10-04 05:00:00|\n",
            "|     16|     2009|   16|        18|Brazilian Grand Prix|2022-11-08 14:01:...|2009-10-18 16:00:00|\n",
            "|     17|     2009|   17|        24|Abu Dhabi Grand Prix|2022-11-08 14:01:...|2009-11-01 11:00:00|\n",
            "|     18|     2008|    1|         1|Australian Grand ...|2022-11-08 14:01:...|2008-03-16 04:30:00|\n",
            "|     19|     2008|    2|         2|Malaysian Grand Prix|2022-11-08 14:01:...|2008-03-23 07:00:00|\n",
            "|     20|     2008|    3|         3|  Bahrain Grand Prix|2022-11-08 14:01:...|2008-04-06 11:30:00|\n",
            "+-------+---------+-----+----------+--------------------+--------------------+-------------------+\n",
            "only showing top 20 rows\n",
            "\n"
          ]
        }
      ]
    },
    {
      "cell_type": "markdown",
      "source": [
        "## Add partition by "
      ],
      "metadata": {
        "id": "3pvosU1-31u-"
      }
    },
    {
      "cell_type": "code",
      "source": [
        "races_selected_df.write.mode(\"overwrite\").partitionBy('race_year').parquet(\"/content/f1_datasets/processed/races\")\n",
        "races_parquet = spark.read.parquet(\"/content/f1_datasets/processed/races\")\n",
        "races_parquet.show()"
      ],
      "metadata": {
        "colab": {
          "base_uri": "https://localhost:8080/"
        },
        "id": "FFlNOSHpqoRM",
        "outputId": "f43fe4a8-be5e-48dc-88d0-504113522fe1"
      },
      "execution_count": 15,
      "outputs": [
        {
          "output_type": "stream",
          "name": "stdout",
          "text": [
            "+-------+-----+----------+--------------------+--------------------+-------------------+---------+\n",
            "|race_id|round|circuit_id|                name|      ingestion_date|     race_timestamp|race_year|\n",
            "+-------+-----+----------+--------------------+--------------------+-------------------+---------+\n",
            "|   1074|    1|         3|  Bahrain Grand Prix|2022-11-08 14:01:...|2022-03-20 15:00:00|     2022|\n",
            "|   1075|    2|        77|Saudi Arabian Gra...|2022-11-08 14:01:...|2022-03-27 17:00:00|     2022|\n",
            "|   1076|    3|         1|Australian Grand ...|2022-11-08 14:01:...|2022-04-10 05:00:00|     2022|\n",
            "|   1077|    4|        21|Emilia Romagna Gr...|2022-11-08 14:01:...|2022-04-24 13:00:00|     2022|\n",
            "|   1078|    5|        79|    Miami Grand Prix|2022-11-08 14:01:...|2022-05-08 19:30:00|     2022|\n",
            "|   1079|    6|         4|  Spanish Grand Prix|2022-11-08 14:01:...|2022-05-22 13:00:00|     2022|\n",
            "|   1080|    7|         6|   Monaco Grand Prix|2022-11-08 14:01:...|2022-05-29 13:00:00|     2022|\n",
            "|   1081|    8|        73|Azerbaijan Grand ...|2022-11-08 14:01:...|2022-06-12 11:00:00|     2022|\n",
            "|   1082|    9|         7| Canadian Grand Prix|2022-11-08 14:01:...|2022-06-19 18:00:00|     2022|\n",
            "|   1083|   10|         9|  British Grand Prix|2022-11-08 14:01:...|2022-07-03 14:00:00|     2022|\n",
            "|   1084|   11|        70| Austrian Grand Prix|2022-11-08 14:01:...|2022-07-10 13:00:00|     2022|\n",
            "|   1085|   12|        34|   French Grand Prix|2022-11-08 14:01:...|2022-07-24 13:00:00|     2022|\n",
            "|   1086|   13|        11|Hungarian Grand Prix|2022-11-08 14:01:...|2022-07-31 13:00:00|     2022|\n",
            "|   1087|   14|        13|  Belgian Grand Prix|2022-11-08 14:01:...|2022-08-28 13:00:00|     2022|\n",
            "|   1088|   15|        39|    Dutch Grand Prix|2022-11-08 14:01:...|2022-09-04 13:00:00|     2022|\n",
            "|   1089|   16|        14|  Italian Grand Prix|2022-11-08 14:01:...|2022-09-11 13:00:00|     2022|\n",
            "|   1091|   17|        15|Singapore Grand Prix|2022-11-08 14:01:...|2022-10-02 12:00:00|     2022|\n",
            "|   1092|   18|        22| Japanese Grand Prix|2022-11-08 14:01:...|2022-10-09 05:00:00|     2022|\n",
            "|   1093|   19|        69|United States Gra...|2022-11-08 14:01:...|2022-10-23 19:00:00|     2022|\n",
            "|   1094|   20|        32|Mexico City Grand...|2022-11-08 14:01:...|2022-10-30 20:00:00|     2022|\n",
            "+-------+-----+----------+--------------------+--------------------+-------------------+---------+\n",
            "only showing top 20 rows\n",
            "\n"
          ]
        }
      ]
    },
    {
      "cell_type": "markdown",
      "source": [
        "# Constructors.csv"
      ],
      "metadata": {
        "id": "RiKFyzrUip7m"
      }
    },
    {
      "cell_type": "code",
      "source": [
        "constructors_schema = StructType(fields=[StructField(\"constructorId\", StringType(), False),\n",
        "                                     StructField(\"constructorRef\", StringType(), True),\n",
        "                                     StructField(\"name\", StringType(), True),\n",
        "                                     StructField(\"nationality\", StringType(), True),\n",
        "                                     StructField(\"url\", StringType(), True)\n",
        "])\n",
        "\n",
        "constructors_df = (spark.read\n",
        "               .schema(constructors_schema)\n",
        "               .csv('/content/f1_datasets/constructors.csv', sep=',', header = True)\n",
        ")\n",
        "\n",
        "constructors_dropped_df = constructors_df.drop(\"url\")\n",
        "constructors_with_df = constructors_dropped_df.withColumn(\"ingestion_date\",current_timestamp())\n",
        "constructors_selected_df = (constructors_with_df.select(col(\"constructorId\").alias(\"constructor_id\"),\n",
        "                                                        col(\"constructorRef\").alias(\"constructor_ref\"),\n",
        "                                                        col(\"name\"),col(\"nationality\"),col(\"ingestion_date\"))\n",
        ")\n",
        "\n",
        "constructors_selected_df.write.mode(\"overwrite\").parquet(\"/content/f1_datasets/constructors\")\n",
        "constructors_parquet = spark.read.parquet(\"/content/f1_datasets/constructors\")\n",
        "constructors_parquet.show()"
      ],
      "metadata": {
        "id": "3tt8diWd4K1i",
        "colab": {
          "base_uri": "https://localhost:8080/"
        },
        "outputId": "cec4fb82-45bf-48d8-98c5-255e70794142"
      },
      "execution_count": 16,
      "outputs": [
        {
          "output_type": "stream",
          "name": "stdout",
          "text": [
            "+--------------+---------------+-----------+-----------+--------------------+\n",
            "|constructor_id|constructor_ref|       name|nationality|      ingestion_date|\n",
            "+--------------+---------------+-----------+-----------+--------------------+\n",
            "|             1|        mclaren|    McLaren|    British|2022-11-08 14:01:...|\n",
            "|             2|     bmw_sauber| BMW Sauber|     German|2022-11-08 14:01:...|\n",
            "|             3|       williams|   Williams|    British|2022-11-08 14:01:...|\n",
            "|             4|        renault|    Renault|     French|2022-11-08 14:01:...|\n",
            "|             5|     toro_rosso| Toro Rosso|    Italian|2022-11-08 14:01:...|\n",
            "|             6|        ferrari|    Ferrari|    Italian|2022-11-08 14:01:...|\n",
            "|             7|         toyota|     Toyota|   Japanese|2022-11-08 14:01:...|\n",
            "|             8|    super_aguri|Super Aguri|   Japanese|2022-11-08 14:01:...|\n",
            "|             9|       red_bull|   Red Bull|   Austrian|2022-11-08 14:01:...|\n",
            "|            10|    force_india|Force India|     Indian|2022-11-08 14:01:...|\n",
            "|            11|          honda|      Honda|   Japanese|2022-11-08 14:01:...|\n",
            "|            12|         spyker|     Spyker|      Dutch|2022-11-08 14:01:...|\n",
            "|            13|            mf1|        MF1|    Russian|2022-11-08 14:01:...|\n",
            "|            14|     spyker_mf1| Spyker MF1|      Dutch|2022-11-08 14:01:...|\n",
            "|            15|         sauber|     Sauber|      Swiss|2022-11-08 14:01:...|\n",
            "|            16|            bar|        BAR|    British|2022-11-08 14:01:...|\n",
            "|            17|         jordan|     Jordan|      Irish|2022-11-08 14:01:...|\n",
            "|            18|        minardi|    Minardi|    Italian|2022-11-08 14:01:...|\n",
            "|            19|         jaguar|     Jaguar|    British|2022-11-08 14:01:...|\n",
            "|            20|          prost|      Prost|     French|2022-11-08 14:01:...|\n",
            "+--------------+---------------+-----------+-----------+--------------------+\n",
            "only showing top 20 rows\n",
            "\n"
          ]
        }
      ]
    },
    {
      "cell_type": "markdown",
      "source": [
        "# Drivers.csv"
      ],
      "metadata": {
        "id": "Dm4ImQ9Vi-Og"
      }
    },
    {
      "cell_type": "code",
      "source": [
        "drivers_schema = StructType(fields=[StructField(\"driverId\", IntegerType(), False),\n",
        "                                    StructField(\"driverRef\", StringType(), True),\n",
        "                                    StructField(\"number\", IntegerType(), True),\n",
        "                                    StructField(\"code\", StringType(), True),\n",
        "                                    StructField(\"forename\",StringType(),True),\n",
        "                                    StructField(\"surname\",StringType(),True),\n",
        "                                    StructField(\"dob\", DateType(), True),\n",
        "                                    StructField(\"nationality\", StringType(), True),\n",
        "                                    StructField(\"url\", StringType(), True)\n",
        "                                    ])\n",
        "\n",
        "drivers_df = (spark.read\n",
        "              .schema(drivers_schema)\n",
        "              .csv('/content/f1_datasets/drivers.csv', sep=',', header = True)\n",
        ")\n",
        "drivers_renamed_df = (drivers_df\n",
        "                      .withColumnRenamed(\"driverId\",\"driver_id\")\n",
        "                      .withColumnRenamed(\"driverRef\",\"driver_ref\")\n",
        "                      .withColumn(\"ingestion_date\",current_timestamp())\n",
        "                      .withColumn(\"name\",concat(col(\"forename\"),lit(\" \"), col(\"surname\")))\n",
        "                     )\n",
        "drivers_renamed_df.show()"
      ],
      "metadata": {
        "colab": {
          "base_uri": "https://localhost:8080/"
        },
        "id": "ABcM2kDti8I9",
        "outputId": "cc5d22ea-99b1-4e4d-f0b7-36fddab7301c"
      },
      "execution_count": 24,
      "outputs": [
        {
          "output_type": "stream",
          "name": "stdout",
          "text": [
            "+---------+----------+------+----+---------+----------+----------+-----------+--------------------+--------------------+------------------+\n",
            "|driver_id|driver_ref|number|code| forename|   surname|       dob|nationality|                 url|      ingestion_date|              name|\n",
            "+---------+----------+------+----+---------+----------+----------+-----------+--------------------+--------------------+------------------+\n",
            "|        1|  hamilton|    44| HAM|    Lewis|  Hamilton|1985-01-07|    British|http://en.wikiped...|2022-11-08 14:07:...|    Lewis Hamilton|\n",
            "|        2|  heidfeld|  null| HEI|     Nick|  Heidfeld|1977-05-10|     German|http://en.wikiped...|2022-11-08 14:07:...|     Nick Heidfeld|\n",
            "|        3|   rosberg|     6| ROS|     Nico|   Rosberg|1985-06-27|     German|http://en.wikiped...|2022-11-08 14:07:...|      Nico Rosberg|\n",
            "|        4|    alonso|    14| ALO| Fernando|    Alonso|1981-07-29|    Spanish|http://en.wikiped...|2022-11-08 14:07:...|   Fernando Alonso|\n",
            "|        5|kovalainen|  null| KOV|   Heikki|Kovalainen|1981-10-19|    Finnish|http://en.wikiped...|2022-11-08 14:07:...| Heikki Kovalainen|\n",
            "|        6|  nakajima|  null| NAK|   Kazuki|  Nakajima|1985-01-11|   Japanese|http://en.wikiped...|2022-11-08 14:07:...|   Kazuki Nakajima|\n",
            "|        7|  bourdais|  null| BOU|Sébastien|  Bourdais|1979-02-28|     French|http://en.wikiped...|2022-11-08 14:07:...|Sébastien Bourdais|\n",
            "|        8| raikkonen|     7| RAI|     Kimi| Räikkönen|1979-10-17|    Finnish|http://en.wikiped...|2022-11-08 14:07:...|    Kimi Räikkönen|\n",
            "|        9|    kubica|    88| KUB|   Robert|    Kubica|1984-12-07|     Polish|http://en.wikiped...|2022-11-08 14:07:...|     Robert Kubica|\n",
            "|       10|     glock|  null| GLO|     Timo|     Glock|1982-03-18|     German|http://en.wikiped...|2022-11-08 14:07:...|        Timo Glock|\n",
            "|       11|      sato|  null| SAT|   Takuma|      Sato|1977-01-28|   Japanese|http://en.wikiped...|2022-11-08 14:07:...|       Takuma Sato|\n",
            "|       12| piquet_jr|  null| PIQ|   Nelson|Piquet Jr.|1985-07-25|  Brazilian|http://en.wikiped...|2022-11-08 14:07:...| Nelson Piquet Jr.|\n",
            "|       13|     massa|    19| MAS|   Felipe|     Massa|1981-04-25|  Brazilian|http://en.wikiped...|2022-11-08 14:07:...|      Felipe Massa|\n",
            "|       14| coulthard|  null| COU|    David| Coulthard|1971-03-27|    British|http://en.wikiped...|2022-11-08 14:07:...|   David Coulthard|\n",
            "|       15|    trulli|  null| TRU|    Jarno|    Trulli|1974-07-13|    Italian|http://en.wikiped...|2022-11-08 14:07:...|      Jarno Trulli|\n",
            "|       16|     sutil|    99| SUT|   Adrian|     Sutil|1983-01-11|     German|http://en.wikiped...|2022-11-08 14:07:...|      Adrian Sutil|\n",
            "|       17|    webber|  null| WEB|     Mark|    Webber|1976-08-27| Australian|http://en.wikiped...|2022-11-08 14:07:...|       Mark Webber|\n",
            "|       18|    button|    22| BUT|   Jenson|    Button|1980-01-19|    British|http://en.wikiped...|2022-11-08 14:07:...|     Jenson Button|\n",
            "|       19|  davidson|  null| DAV|  Anthony|  Davidson|1979-04-18|    British|http://en.wikiped...|2022-11-08 14:07:...|  Anthony Davidson|\n",
            "|       20|    vettel|     5| VET|Sebastian|    Vettel|1987-07-03|     German|http://en.wikiped...|2022-11-08 14:07:...|  Sebastian Vettel|\n",
            "+---------+----------+------+----+---------+----------+----------+-----------+--------------------+--------------------+------------------+\n",
            "only showing top 20 rows\n",
            "\n"
          ]
        }
      ]
    },
    {
      "cell_type": "code",
      "source": [],
      "metadata": {
        "id": "YwarIfHEjSJM"
      },
      "execution_count": null,
      "outputs": []
    }
  ]
}