{
  "nbformat": 4,
  "nbformat_minor": 0,
  "metadata": {
    "colab": {
      "provenance": [],
      "authorship_tag": "ABX9TyNDsWJCh5AEUkVKC9fpKaMj",
      "include_colab_link": true
    },
    "kernelspec": {
      "name": "python3",
      "display_name": "Python 3"
    },
    "language_info": {
      "name": "python"
    }
  },
  "cells": [
    {
      "cell_type": "markdown",
      "metadata": {
        "id": "view-in-github",
        "colab_type": "text"
      },
      "source": [
        "<a href=\"https://colab.research.google.com/github/pierredumontel/formula-one-spark-project/blob/master/Colab-notebooks/dashboards/f1_dashboards_preparation.ipynb\" target=\"_parent\"><img src=\"https://colab.research.google.com/assets/colab-badge.svg\" alt=\"Open In Colab\"/></a>"
      ]
    },
    {
      "cell_type": "code",
      "execution_count": 1,
      "metadata": {
        "colab": {
          "base_uri": "https://localhost:8080/"
        },
        "id": "VW_NCJ5ty5Si",
        "outputId": "23fa3716-4350-4197-feed-1a5cc7b13db3"
      },
      "outputs": [
        {
          "output_type": "stream",
          "name": "stdout",
          "text": [
            "Drive already mounted at /content/drive; to attempt to forcibly remount, call drive.mount(\"/content/drive\", force_remount=True).\n"
          ]
        }
      ],
      "source": [
        "from google.colab import drive\n",
        "drive.mount('/content/drive')"
      ]
    },
    {
      "cell_type": "code",
      "source": [
        "%run /content/drive/MyDrive/formula-one/f1-csv-ingestion.ipynb "
      ],
      "metadata": {
        "id": "GZXZJ4fjzDbM",
        "colab": {
          "base_uri": "https://localhost:8080/"
        },
        "outputId": "cc7a03a8-35c5-4575-98b5-f0e75eb8164a"
      },
      "execution_count": 2,
      "outputs": [
        {
          "output_type": "stream",
          "name": "stdout",
          "text": [
            "Looking in indexes: https://pypi.org/simple, https://us-python.pkg.dev/colab-wheels/public/simple/\n",
            "Requirement already satisfied: pyspark in /usr/local/lib/python3.7/dist-packages (3.3.1)\n",
            "Requirement already satisfied: py4j==0.10.9.5 in /usr/local/lib/python3.7/dist-packages (from pyspark) (0.10.9.5)\n"
          ]
        },
        {
          "output_type": "stream",
          "name": "stderr",
          "text": [
            "/usr/local/lib/python3.7/dist-packages/pyspark/sql/context.py:114: FutureWarning: Deprecated in 3.0.0. Use SparkSession.builder.getOrCreate() instead.\n",
            "  FutureWarning,\n"
          ]
        },
        {
          "output_type": "stream",
          "name": "stdout",
          "text": [
            "Drive already mounted at /content/drive; to attempt to forcibly remount, call drive.mount(\"/content/drive\", force_remount=True).\n",
            "  % Total    % Received % Xferd  Average Speed   Time    Time     Time  Current\n",
            "                                 Dload  Upload   Total   Spent    Left  Speed\n",
            "100 5836k  100 5836k    0     0  1447k      0  0:00:04  0:00:04 --:--:-- 1447k\n",
            "Archive:  /content/f1db_csv.zip\n",
            "replace /content/f1_datasets/circuits.csv? [y]es, [n]o, [A]ll, [N]one, [r]ename: A\n",
            "  inflating: /content/f1_datasets/circuits.csv  \n",
            "  inflating: /content/f1_datasets/constructor_results.csv  \n",
            "  inflating: /content/f1_datasets/constructors.csv  \n",
            "  inflating: /content/f1_datasets/constructor_standings.csv  \n",
            "  inflating: /content/f1_datasets/drivers.csv  \n",
            "  inflating: /content/f1_datasets/driver_standings.csv  \n",
            "  inflating: /content/f1_datasets/lap_times.csv  \n",
            "  inflating: /content/f1_datasets/pit_stops.csv  \n",
            "  inflating: /content/f1_datasets/qualifying.csv  \n",
            "  inflating: /content/f1_datasets/races.csv  \n",
            "  inflating: /content/f1_datasets/results.csv  \n",
            "  inflating: /content/f1_datasets/seasons.csv  \n",
            "  inflating: /content/f1_datasets/sprint_results.csv  \n",
            "  inflating: /content/f1_datasets/status.csv  \n",
            "total 20M\n",
            "drwxr-xr-x 2 root root 4.0K Nov  9 13:27 circuits\n",
            "-rw-rw-r-- 1 root root 9.8K Oct 31 08:51 circuits.csv\n",
            "-rw-rw-r-- 1 root root 206K Oct 31 08:51 constructor_results.csv\n",
            "drwxr-xr-x 2 root root 4.0K Nov  9 13:27 constructors\n",
            "-rw-rw-r-- 1 root root  17K Oct 31 08:51 constructors.csv\n",
            "-rw-rw-r-- 1 root root 298K Oct 31 08:51 constructor_standings.csv\n",
            "drwxr-xr-x 2 root root 4.0K Nov  9 13:27 drivers\n",
            "-rw-rw-r-- 1 root root  92K Oct 31 08:51 drivers.csv\n",
            "-rw-rw-r-- 1 root root 837K Oct 31 08:51 driver_standings.csv\n",
            "drwxr-xr-x 2 root root 4.0K Nov  9 13:28 lap_times\n",
            "-rw-rw-r-- 1 root root  16M Oct 31 08:51 lap_times.csv\n",
            "drwxr-xr-x 2 root root 4.0K Nov  9 13:28 pit_stops\n",
            "-rw-rw-r-- 1 root root 363K Oct 31 08:51 pit_stops.csv\n",
            "drwxr-xr-x 3 root root 4.0K Nov  9 14:19 presentation\n",
            "drwxr-xr-x 4 root root 4.0K Nov  9 13:27 processed\n",
            "drwxr-xr-x 2 root root 4.0K Nov  9 13:28 qualifying\n",
            "-rw-rw-r-- 1 root root 408K Oct 31 08:51 qualifying.csv\n",
            "drwxr-xr-x 2 root root 4.0K Nov  9 13:27 races\n",
            "-rw-rw-r-- 1 root root 151K Oct 31 08:51 races.csv\n",
            "-rw-rw-r-- 1 root root 1.6M Oct 31 08:51 results.csv\n",
            "-rw-rw-r-- 1 root root 4.4K Oct 31 08:51 seasons.csv\n",
            "-rw-r--r-- 1 root root 6.8K Oct 31 08:51 sprint_results.csv\n",
            "-rw-rw-r-- 1 root root 2.1K Oct 31 08:51 status.csv\n",
            "Notebook f1-csv-ingestion.ipynb has successfully been executed\n"
          ]
        }
      ]
    },
    {
      "cell_type": "markdown",
      "source": [
        "# Dashboard preparation"
      ],
      "metadata": {
        "id": "_M-E_VNE3Qw3"
      }
    },
    {
      "cell_type": "code",
      "source": [
        "dashboard_df = (results_parquet\n",
        "                .select(col(\"race_id\"),col(\"driver_id\"),col(\"constructor_id\"),\n",
        "                        col(\"grid\"),col(\"fastest_lap\"), col(\"time\").alias(\"race_time\"), col(\"points\"), col(\"position\"))\n",
        "                .join(races_parquet\n",
        "                      .select(col(\"race_id\"),col(\"circuit_id\"),col(\"race_year\"),col(\"name\").alias(\"race_name\"),\n",
        "                              col(\"race_timestamp\").alias(\"race_date\"))\n",
        "                      .join(circuits_parquet.select(col(\"circuit_id\"),col(\"location\").alias(\"circuit_location\")),'circuit_id','left'),\n",
        "                      \"race_id\",'left')\n",
        "                .join(drivers_parquet.select(col(\"driver_id\"),col(\"name\").alias(\"driver_name\"),col(\"number\").alias(\"driver_number\"), \n",
        "                                             col(\"nationality\").alias(\"driver_nationality\")), \n",
        "                      \"driver_id\",\"left\")\n",
        "                .join(constructors_parquet.select(col(\"constructor_id\"),col(\"name\").alias(\"team\")), \n",
        "                      \"constructor_id\",\"left\")\n",
        "                .withColumn(\"created_date\",current_timestamp())\n",
        "                )\n",
        "\n",
        "dashboard_ddf = dashboard_df.drop(\"constructor_id\",'driver_id',\"race_id\",\"circuit_id\")\n",
        "dashboard_ddf.write.mode(\"overwrite\").parquet(\"/content/f1_datasets/presentation/dashboard\")\n",
        "dashboard_parquet = spark.read.parquet(\"/content/f1_datasets/presentation/dashboard\")\n",
        "dashboard_parquet.show()"
      ],
      "metadata": {
        "colab": {
          "base_uri": "https://localhost:8080/"
        },
        "id": "QHD9wfSHza7o",
        "outputId": "4207cbb4-f97c-4b99-ca36-c30845f457da"
      },
      "execution_count": 5,
      "outputs": [
        {
          "output_type": "stream",
          "name": "stdout",
          "text": [
            "+----+-----------+-----------+------+--------+---------+-----------------+-------------------+----------------+-----------------+-------------+------------------+-----------+--------------------+\n",
            "|grid|fastest_lap|  race_time|points|position|race_year|        race_name|          race_date|circuit_location|      driver_name|driver_number|driver_nationality|       team|        created_date|\n",
            "+----+-----------+-----------+------+--------+---------+-----------------+-------------------+----------------+-----------------+-------------+------------------+-----------+--------------------+\n",
            "|   1|         60|1:31:10.744|  25.0|       1|     2012|Indian Grand Prix|2012-10-28 09:30:00|   Uttar Pradesh| Sebastian Vettel|            5|            German|   Red Bull|2022-11-09 15:50:...|\n",
            "|   5|         60|     +9.437|  18.0|       2|     2012|Indian Grand Prix|2012-10-28 09:30:00|   Uttar Pradesh|  Fernando Alonso|           14|           Spanish|    Ferrari|2022-11-09 15:50:...|\n",
            "|   2|         59|    +13.217|  15.0|       3|     2012|Indian Grand Prix|2012-10-28 09:30:00|   Uttar Pradesh|      Mark Webber|         null|        Australian|   Red Bull|2022-11-09 15:50:...|\n",
            "|   3|         58|    +13.909|  12.0|       4|     2012|Indian Grand Prix|2012-10-28 09:30:00|   Uttar Pradesh|   Lewis Hamilton|           44|           British|    McLaren|2022-11-09 15:50:...|\n",
            "|   4|         60|    +26.266|  10.0|       5|     2012|Indian Grand Prix|2012-10-28 09:30:00|   Uttar Pradesh|    Jenson Button|           22|           British|    McLaren|2022-11-09 15:50:...|\n",
            "|   6|         59|    +44.674|   8.0|       6|     2012|Indian Grand Prix|2012-10-28 09:30:00|   Uttar Pradesh|     Felipe Massa|           19|         Brazilian|    Ferrari|2022-11-09 15:50:...|\n",
            "|   7|         54|    +45.227|   6.0|       7|     2012|Indian Grand Prix|2012-10-28 09:30:00|   Uttar Pradesh|   Kimi Räikkönen|            7|           Finnish|   Lotus F1|2022-11-09 15:50:...|\n",
            "|  12|         60|    +54.998|   4.0|       8|     2012|Indian Grand Prix|2012-10-28 09:30:00|   Uttar Pradesh|  Nico Hülkenberg|           27|            German|Force India|2022-11-09 15:50:...|\n",
            "|  11|         57|    +56.103|   2.0|       9|     2012|Indian Grand Prix|2012-10-28 09:30:00|   Uttar Pradesh|  Romain Grosjean|            8|            French|   Lotus F1|2022-11-09 15:50:...|\n",
            "|  13|         60|  +1:14.975|   1.0|      10|     2012|Indian Grand Prix|2012-10-28 09:30:00|   Uttar Pradesh|      Bruno Senna|         null|         Brazilian|   Williams|2022-11-09 15:50:...|\n",
            "|  10|         59|  +1:21.694|   0.0|      11|     2012|Indian Grand Prix|2012-10-28 09:30:00|   Uttar Pradesh|     Nico Rosberg|            6|            German|   Mercedes|2022-11-09 15:50:...|\n",
            "|  16|         59|  +1:22.815|   0.0|      12|     2012|Indian Grand Prix|2012-10-28 09:30:00|   Uttar Pradesh|    Paul di Resta|         null|           British|Force India|2022-11-09 15:50:...|\n",
            "|  15|         57|  +1:26.064|   0.0|      13|     2012|Indian Grand Prix|2012-10-28 09:30:00|   Uttar Pradesh| Daniel Ricciardo|            3|        Australian| Toro Rosso|2022-11-09 15:50:...|\n",
            "|  17|         51|  +1:26.495|   0.0|      14|     2012|Indian Grand Prix|2012-10-28 09:30:00|   Uttar Pradesh|  Kamui Kobayashi|           10|          Japanese|     Sauber|2022-11-09 15:50:...|\n",
            "|  18|         59|         \\N|   0.0|      15|     2012|Indian Grand Prix|2012-10-28 09:30:00|   Uttar Pradesh| Jean-Éric Vergne|           25|            French| Toro Rosso|2022-11-09 15:50:...|\n",
            "|   9|         50|         \\N|   0.0|      16|     2012|Indian Grand Prix|2012-10-28 09:30:00|   Uttar Pradesh| Pastor Maldonado|           13|        Venezuelan|   Williams|2022-11-09 15:50:...|\n",
            "|  19|         58|         \\N|   0.0|      17|     2012|Indian Grand Prix|2012-10-28 09:30:00|   Uttar Pradesh|    Vitaly Petrov|         null|           Russian|   Caterham|2022-11-09 15:50:...|\n",
            "|  20|         57|         \\N|   0.0|      18|     2012|Indian Grand Prix|2012-10-28 09:30:00|   Uttar Pradesh|Heikki Kovalainen|         null|           Finnish|   Caterham|2022-11-09 15:50:...|\n",
            "|  24|         55|         \\N|   0.0|      19|     2012|Indian Grand Prix|2012-10-28 09:30:00|   Uttar Pradesh|      Charles Pic|         null|            French|   Marussia|2022-11-09 15:50:...|\n",
            "|  21|         56|         \\N|   0.0|      20|     2012|Indian Grand Prix|2012-10-28 09:30:00|   Uttar Pradesh|       Timo Glock|         null|            German|   Marussia|2022-11-09 15:50:...|\n",
            "+----+-----------+-----------+------+--------+---------+-----------------+-------------------+----------------+-----------------+-------------+------------------+-----------+--------------------+\n",
            "only showing top 20 rows\n",
            "\n"
          ]
        }
      ]
    },
    {
      "cell_type": "code",
      "source": [
        "driverRankSpec = Window.partitionBy(\"race_year\").orderBy(desc(\"Points\"),asc(\"wins\"))\n",
        "\n",
        "drivers_standings_df = (dashboard_parquet\n",
        "                        .groupBy('race_year','driver_name','team')\n",
        "                        .agg(sum(\"points\").alias(\"Points\"),\n",
        "                             count(when(col(\"position\")==1,True)).alias(\"wins\"))\n",
        "                        .withColumn(\"rank\",rank().over(driverRankSpec))\n",
        "                        .orderBy(desc(\"race_year\"),desc(\"Points\"))\n",
        "                        )\n",
        "drivers_standings_df.write.mode(\"overwrite\").parquet(\"/content/f1_datasets/presentation/dashboard\")\n",
        "drivers_standings_parquet = spark.read.parquet(\"/content/f1_datasets/presentation/dashboard\")\n",
        "drivers_standings_parquet.show()"
      ],
      "metadata": {
        "id": "r9hr4NY42XF3",
        "colab": {
          "base_uri": "https://localhost:8080/"
        },
        "outputId": "2f6be44b-c741-4551-e93a-91149b20237b"
      },
      "execution_count": 39,
      "outputs": [
        {
          "output_type": "stream",
          "name": "stdout",
          "text": [
            "+---------+----------------+--------------+------+----+----+\n",
            "|race_year|     driver_name|          team|Points|wins|rank|\n",
            "+---------+----------------+--------------+------+----+----+\n",
            "|     2022|  Max Verstappen|      Red Bull| 400.0|  14|   1|\n",
            "|     2022|    Sergio Pérez|      Red Bull| 270.0|   2|   2|\n",
            "|     2022| Charles Leclerc|       Ferrari| 261.0|   3|   3|\n",
            "|     2022|  George Russell|      Mercedes| 226.0|   0|   4|\n",
            "|     2022|  Lewis Hamilton|      Mercedes| 215.0|   0|   5|\n",
            "|     2022|    Carlos Sainz|       Ferrari| 201.0|   1|   6|\n",
            "|     2022|    Lando Norris|       McLaren| 107.0|   0|   7|\n",
            "|     2022|    Esteban Ocon|Alpine F1 Team|  79.0|   0|   8|\n",
            "|     2022| Fernando Alonso|Alpine F1 Team|  71.0|   0|   9|\n",
            "|     2022| Valtteri Bottas|    Alfa Romeo|  45.0|   0|  10|\n",
            "|     2022|Sebastian Vettel|  Aston Martin|  36.0|   0|  11|\n",
            "|     2022|Daniel Ricciardo|       McLaren|  32.0|   0|  12|\n",
            "|     2022|    Pierre Gasly|    AlphaTauri|  23.0|   0|  13|\n",
            "|     2022| Kevin Magnussen|  Haas F1 Team|  21.0|   0|  14|\n",
            "|     2022|    Lance Stroll|  Aston Martin|  13.0|   0|  15|\n",
            "|     2022|    Yuki Tsunoda|    AlphaTauri|  12.0|   0|  16|\n",
            "|     2022| Mick Schumacher|  Haas F1 Team|  12.0|   0|  16|\n",
            "|     2022|     Guanyu Zhou|    Alfa Romeo|   6.0|   0|  18|\n",
            "|     2022| Alexander Albon|      Williams|   4.0|   0|  19|\n",
            "|     2022|   Nyck de Vries|      Williams|   2.0|   0|  20|\n",
            "+---------+----------------+--------------+------+----+----+\n",
            "only showing top 20 rows\n",
            "\n"
          ]
        }
      ]
    },
    {
      "cell_type": "code",
      "source": [
        "constructorsRankSpec = Window.partitionBy(\"race_year\").orderBy(desc(\"Points\"),asc(\"wins\"))\n",
        "\n",
        "constructors_standings_df = (dashboard_parquet\n",
        "                             .groupBy('race_year','team')\n",
        "                             .agg(sum(\"points\").alias(\"Points\"),\n",
        "                                  count(when(col(\"position\")==1,True)).alias(\"wins\"))\n",
        "                             .withColumn(\"rank\",rank().over(constructorsRankSpec))\n",
        "                             .orderBy(desc(\"race_year\"),desc(\"Points\"))\n",
        "                             )\n",
        "constructors_standings_df.write.mode(\"overwrite\").parquet(\"/content/f1_datasets/presentation/dashboard\")\n",
        "constructors_standings_parquet = spark.read.parquet(\"/content/f1_datasets/presentation/dashboard\")\n",
        "constructors_standings_parquet.show()"
      ],
      "metadata": {
        "colab": {
          "base_uri": "https://localhost:8080/"
        },
        "id": "BoKhj3s-G2EL",
        "outputId": "e94f2334-495a-45f1-e2de-58a18660480f"
      },
      "execution_count": 40,
      "outputs": [
        {
          "output_type": "stream",
          "name": "stdout",
          "text": [
            "+---------+--------------+------+----+----+\n",
            "|race_year|          team|Points|wins|rank|\n",
            "+---------+--------------+------+----+----+\n",
            "|     2022|      Red Bull| 670.0|  16|   1|\n",
            "|     2022|       Ferrari| 462.0|   4|   2|\n",
            "|     2022|      Mercedes| 441.0|   0|   3|\n",
            "|     2022|Alpine F1 Team| 150.0|   0|   4|\n",
            "|     2022|       McLaren| 139.0|   0|   5|\n",
            "|     2022|    Alfa Romeo|  51.0|   0|   6|\n",
            "|     2022|  Aston Martin|  49.0|   0|   7|\n",
            "|     2022|    AlphaTauri|  35.0|   0|   8|\n",
            "|     2022|  Haas F1 Team|  33.0|   0|   9|\n",
            "|     2022|      Williams|   8.0|   0|  10|\n",
            "|     2021|      Mercedes| 604.5|   9|   1|\n",
            "|     2021|      Red Bull| 578.5|  11|   2|\n",
            "|     2021|       Ferrari| 322.5|   0|   3|\n",
            "|     2021|       McLaren| 274.0|   1|   4|\n",
            "|     2021|Alpine F1 Team| 155.0|   1|   5|\n",
            "|     2021|    AlphaTauri| 142.0|   0|   6|\n",
            "|     2021|  Aston Martin|  77.0|   0|   7|\n",
            "|     2021|      Williams|  23.0|   0|   8|\n",
            "|     2021|    Alfa Romeo|  13.0|   0|   9|\n",
            "|     2021|  Haas F1 Team|   0.0|   0|  10|\n",
            "+---------+--------------+------+----+----+\n",
            "only showing top 20 rows\n",
            "\n"
          ]
        }
      ]
    }
  ]
}